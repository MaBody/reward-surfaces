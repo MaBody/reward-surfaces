{
 "cells": [
  {
   "cell_type": "markdown",
   "id": "modular-vietnamese",
   "metadata": {},
   "source": [
    "# Reward surfaces\n",
    "\n",
    "Visualizing the objective surface\n",
    "\n",
    "$$J(\\theta) = \\mathbb{E}_{\\tau \\sim \\pi_\\theta} \\sum_{i=1}^{t_\\tau} R_i$$\n",
    "\n",
    "In particular, this notebook visualizes its behavior in 2d plots along particular directions"
   ]
  },
  {
   "cell_type": "markdown",
   "id": "developing-capital",
   "metadata": {},
   "source": [
    "Installation:\n",
    "\n",
    "```\n",
    "pip install git+https://github.com/weepingwillowben/reward-surfaces.git\n",
    "```"
   ]
  },
  {
   "cell_type": "code",
   "execution_count": 11,
   "id": "hairy-relationship",
   "metadata": {},
   "outputs": [],
   "source": [
    "from reward_surfaces.experiments import generate_plane_data\n",
    "from reward_surfaces.plotting import plot_plane\n",
    "from reward_surfaces.runners.run_jobs_multiproc import run_job_list\n",
    "from reward_surfaces.utils.job_results_to_csv import job_results_to_csv\n",
    "from reward_surfaces.utils.surface_utils import readz\n",
    "from reward_surfaces.agents.make_agent import make_agent\n",
    "\n",
    "import json\n",
    "import os\n",
    "import shutil"
   ]
  },
  {
   "cell_type": "markdown",
   "id": "alpha-pension",
   "metadata": {},
   "source": [
    "First, you need to define the vectors along which to view the plot"
   ]
  },
  {
   "cell_type": "code",
   "execution_count": 12,
   "id": "loved-james",
   "metadata": {},
   "outputs": [],
   "source": [
    "p_str = \"0040000\"\n",
    "trained_checkpoint = f\"train_hopper_small/{p_str}/\"\n",
    "generated_dirs_dir = f\"_temp_dir/\"\n",
    "\n",
    "dir2_fname = f\"hopper_eig_vecs/results/{p_str}/mineigvec.npz\"\n",
    "dir1_fname = f\"hopper_eig_vecs/results/{p_str}/maxeigvec.npz\"\n",
    "dir1_fname = f\"hopper_grad/results/{p_str}/grad.npz\"\n",
    "\n",
    "dir1 = readz(dir1_fname)\n",
    "dir2 = readz(dir2_fname)\n",
    "\n",
    "train_info = json.load(open(trained_checkpoint+\"../info.json\"))\n",
    "base_magnitude = 1.0\n",
    "dir1_mag = 0.2 * base_magnitude\n",
    "dir2_mag = 1.00 * base_magnitude\n",
    "dir1 = [d*dir1_mag/1000000 for d in dir1]\n",
    "dir2 = [d*dir2_mag for d in dir2]\n",
    "\n",
    "train_info['dir1_mag'] = dir1_mag\n",
    "train_info['dir2_mag'] = dir2_mag\n"
   ]
  },
  {
   "cell_type": "markdown",
   "id": "secondary-fleet",
   "metadata": {},
   "source": [
    "Compute the objective for all points in a specified grid. This might take awhile."
   ]
  },
  {
   "cell_type": "code",
   "execution_count": null,
   "id": "domestic-bryan",
   "metadata": {},
   "outputs": [
    {
     "name": "stderr",
     "output_type": "stream",
     "text": [
      " 11%|█         | 9/81 [00:00<00:00, 89.43it/s]"
     ]
    },
    {
     "name": "stdout",
     "output_type": "stream",
     "text": [
      "removed old directory\n"
     ]
    },
    {
     "name": "stderr",
     "output_type": "stream",
     "text": [
      " 30%|██▉       | 24/81 [00:04<00:14,  4.06it/s]"
     ]
    }
   ],
   "source": [
    "# data won't calculate if temporary directory exists\n",
    "if os.path.exists(generated_dirs_dir):\n",
    "    shutil.rmtree(generated_dirs_dir)\n",
    "    print(\"removed old directory\")\n",
    "\n",
    "grid_size = 9\n",
    "num_episodes = 25\n",
    "generate_plane_data(trained_checkpoint, generated_dirs_dir, dir1, dir2, train_info, grid_size=grid_size, num_episodes=num_episodes)\n",
    "run_job_list(generated_dirs_dir+\"jobs.sh\")\n",
    "job_results_to_csv(generated_dirs_dir)"
   ]
  },
  {
   "cell_type": "code",
   "execution_count": null,
   "id": "romance-zoning",
   "metadata": {},
   "outputs": [],
   "source": [
    "\n",
    "plot_plane(generated_dirs_dir+\"results.csv\",\n",
    "    outname=\"script_out\",\n",
    "    type=\"heat\",\n",
    "    dir1_name=os.path.basename(dir1_fname),\n",
    "    dir2_name=os.path.basename(dir2_fname),\n",
    "    dir1_scale=dir1_mag,\n",
    "    dir2_scale=dir2_mag,\n",
    ")"
   ]
  },
  {
   "cell_type": "code",
   "execution_count": null,
   "id": "alpine-armenia",
   "metadata": {},
   "outputs": [],
   "source": []
  }
 ],
 "metadata": {
  "kernelspec": {
   "display_name": "Python 3",
   "language": "python",
   "name": "python3"
  },
  "language_info": {
   "codemirror_mode": {
    "name": "ipython",
    "version": 3
   },
   "file_extension": ".py",
   "mimetype": "text/x-python",
   "name": "python",
   "nbconvert_exporter": "python",
   "pygments_lexer": "ipython3",
   "version": "3.6.9"
  }
 },
 "nbformat": 4,
 "nbformat_minor": 5
}
