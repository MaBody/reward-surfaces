{
 "cells": [
  {
   "cell_type": "markdown",
   "id": "hungarian-template",
   "metadata": {},
   "source": [
    "## Examples of optimization pathology and success in RL"
   ]
  },
  {
   "cell_type": "markdown",
   "id": "likely-audio",
   "metadata": {},
   "source": [
    "The following notebook looks at the [hopper pybullet environment](https://github.com/benelot/pybullet-gym) pictured below \n",
    "\n",
    "![hopper env](hopperv1.png)"
   ]
  },
  {
   "cell_type": "markdown",
   "id": "growing-circle",
   "metadata": {},
   "source": [
    "This agent was trained with stable baselines 3's implementation of PPO. The hyperparameters were set to the original paper's hyperparameters. The training distribution looks like this:\n",
    "\n",
    "![train curve](generated_dirsbullet_evalhopper_resultscsv.png)\n",
    "\n",
    "Notably, these evaluations are quite precise---all the variation you see are in fact real changes in the policy's quality. \n",
    "\n",
    "Our core question is: Why does the reinforcement learning process have so much variance? \n",
    "\n",
    "What we found is that the RL objective is profoundly non-smooth. This non-smoothness is so severe that the gradient can become misleading in many situations."
   ]
  },
  {
   "cell_type": "code",
   "execution_count": 9,
   "id": "competent-floor",
   "metadata": {},
   "outputs": [],
   "source": [
    "from reward_surfaces.experiments import generate_plane_data\n",
    "from reward_surfaces.plotting import plot_plane\n",
    "from reward_surfaces.runners.run_jobs_multiproc import run_job_list\n",
    "from reward_surfaces.utils.job_results_to_csv import job_results_to_csv\n",
    "from reward_surfaces.utils.surface_utils import readz, filter_normalize\n",
    "from reward_surfaces.agents.make_agent import make_agent\n",
    "\n",
    "import json\n",
    "import os\n",
    "import shutil\n",
    "import torch"
   ]
  },
  {
   "cell_type": "code",
   "execution_count": 10,
   "id": "graphic-paint",
   "metadata": {},
   "outputs": [],
   "source": [
    "def plot_result(p_str, dir1_mag, dir2_mag, num_episodes=50, grid_size=11, max_eig=False):\n",
    "    trained_checkpoint = f\"train_hopper_small/{p_str}/\"\n",
    "    generated_dirs_dir = f\"_temp_dir/\"\n",
    "\n",
    "    dir2_fname = f\"hopper_eig_vecs/results/{p_str}/mineigvec.npz\"\n",
    "    if max_eig:\n",
    "        dir2_fname = f\"hopper_eig_vecs/results/{p_str}/maxeigvec.npz\"\n",
    "    dir1_fname = f\"hopper_grad/results/{p_str}/grad.npz\"\n",
    "\n",
    "    dir2_fname = f\"{trained_checkpoint}/parameters.th\"\n",
    "    dir2 = [filter_normalize(v.cpu().detach().numpy()) for v in torch.load(dir2_fname,map_location=torch.device('cpu')).values()]\n",
    "\n",
    "    dir1 = readz(dir1_fname)\n",
    "#     dir2 = readz(dir2_fname)\n",
    "\n",
    "    train_info = json.load(open(generated_dirs_dir+\"info.json\"))\n",
    "    base_magnitude = 1.0\n",
    "    dir1_mag = dir1_mag * base_magnitude\n",
    "    dir2_mag = dir2_mag * base_magnitude\n",
    "    dir1 = [d*dir1_mag/1000000 for d in dir1]\n",
    "    dir2 = [d*dir2_mag for d in dir2]\n",
    "\n",
    "    train_info['dir1_mag'] = dir1_mag\n",
    "    train_info['dir2_mag'] = dir2_mag\n",
    "\n",
    "    if os.path.exists(generated_dirs_dir):\n",
    "        shutil.rmtree(generated_dirs_dir)\n",
    "    print(\"removed\")\n",
    "\n",
    "    generate_plane_data(trained_checkpoint, generated_dirs_dir, dir1, dir2, train_info, grid_size=grid_size, num_episodes=num_episodes)\n",
    "    run_job_list(generated_dirs_dir+\"jobs.sh\",disable_warnings=True)\n",
    "    job_results_to_csv(generated_dirs_dir)\n",
    "    plot_plane(generated_dirs_dir+\"results.csv\",\n",
    "        outname=\"script_out\",\n",
    "        type=\"heat\",\n",
    "        dir1_name=os.path.basename(dir1_fname),\n",
    "        dir2_name=os.path.basename(dir2_fname),\n",
    "        dir1_scale=dir1_mag,\n",
    "        dir2_scale=dir2_mag,\n",
    "        show=True\n",
    "        )\n"
   ]
  },
  {
   "cell_type": "markdown",
   "id": "authorized-customer",
   "metadata": {},
   "source": [
    "How to interpret \n",
    "\n",
    "![](gradient_thingy.png)"
   ]
  },
  {
   "cell_type": "code",
   "execution_count": 11,
   "id": "welsh-fiber",
   "metadata": {},
   "outputs": [
    {
     "name": "stderr",
     "output_type": "stream",
     "text": [
      "  9%|▉         | 11/121 [00:00<00:01, 107.92it/s]"
     ]
    },
    {
     "name": "stdout",
     "output_type": "stream",
     "text": [
      "removed\n"
     ]
    },
    {
     "name": "stderr",
     "output_type": "stream",
     "text": [
      " 99%|█████████▉| 120/121 [05:37<00:02,  2.81s/it]\n"
     ]
    },
    {
     "name": "stdout",
     "output_type": "stream",
     "text": [
      "(11, 11)\n"
     ]
    },
    {
     "data": {
      "image/png": "[encoded data removed]",
      "text/plain": [
       "<Figure size 432x288 with 2 Axes>"
      ]
     },
     "metadata": {
      "needs_background": "light"
     },
     "output_type": "display_data"
    }
   ],
   "source": [
    "plot_result(\"0160000\", 0.003, 0.3, num_episodes=200)"
   ]
  },
  {
   "cell_type": "markdown",
   "id": "advance-shift",
   "metadata": {},
   "source": [
    "As you can see, if you zoom up, the policy gradient looks like a gradient"
   ]
  },
  {
   "cell_type": "code",
   "execution_count": 12,
   "id": "arctic-copyright",
   "metadata": {},
   "outputs": [
    {
     "name": "stderr",
     "output_type": "stream",
     "text": [
      "  9%|▉         | 11/121 [00:00<00:01, 103.44it/s]"
     ]
    },
    {
     "name": "stdout",
     "output_type": "stream",
     "text": [
      "removed\n"
     ]
    },
    {
     "name": "stderr",
     "output_type": "stream",
     "text": [
      " 99%|█████████▉| 120/121 [01:14<00:00,  1.60it/s]\n"
     ]
    },
    {
     "name": "stdout",
     "output_type": "stream",
     "text": [
      "(11, 11)\n"
     ]
    },
    {
     "data": {
      "image/png": "[encoded data removed]",
      "text/plain": [
       "<Figure size 432x288 with 2 Axes>"
      ]
     },
     "metadata": {
      "needs_background": "light"
     },
     "output_type": "display_data"
    }
   ],
   "source": [
    "plot_result(\"0160000\", 0.02, 0.3)"
   ]
  },
  {
   "cell_type": "markdown",
   "id": "formed-lyric",
   "metadata": {},
   "source": [
    "As you would expect, going in the direction of the graident is the shortest route to improving performance. However, if you follow the gradient even a little bit further, the value plumets to zero! Bizzarely, if you take a too big gradient step in the direction of the gradient, not even too far, just with an LR of 0.02, you end up with total policy collapse. You would have been better off stepping in the negative direction of the gradient. "
   ]
  },
  {
   "cell_type": "code",
   "execution_count": 14,
   "id": "unique-homeless",
   "metadata": {},
   "outputs": [
    {
     "name": "stderr",
     "output_type": "stream",
     "text": [
      "  9%|▉         | 11/121 [00:00<00:01, 104.40it/s]"
     ]
    },
    {
     "name": "stdout",
     "output_type": "stream",
     "text": [
      "removed\n"
     ]
    },
    {
     "name": "stderr",
     "output_type": "stream",
     "text": [
      " 99%|█████████▉| 120/121 [00:53<00:00,  2.24it/s]\n"
     ]
    },
    {
     "name": "stdout",
     "output_type": "stream",
     "text": [
      "(11, 11)\n"
     ]
    },
    {
     "data": {
      "image/png": "[encoded data removed]",
      "text/plain": [
       "<Figure size 432x288 with 2 Axes>"
      ]
     },
     "metadata": {
      "needs_background": "light"
     },
     "output_type": "display_data"
    }
   ],
   "source": [
    "plot_result(\"0040000\", 0.8, 0.5, num_episodes=200)"
   ]
  },
  {
   "cell_type": "markdown",
   "id": "external-database",
   "metadata": {},
   "source": [
    "Early in training, when the objective is more smooth, the gradient direction smoothly increases and decreases, even for extremely large gradient steps."
   ]
  },
  {
   "cell_type": "code",
   "execution_count": 16,
   "id": "natural-thomson",
   "metadata": {},
   "outputs": [
    {
     "name": "stderr",
     "output_type": "stream",
     "text": [
      "  8%|▊         | 10/121 [00:00<00:01, 99.34it/s]"
     ]
    },
    {
     "name": "stdout",
     "output_type": "stream",
     "text": [
      "removed\n"
     ]
    },
    {
     "name": "stderr",
     "output_type": "stream",
     "text": [
      " 99%|█████████▉| 120/121 [01:56<00:00,  1.03it/s]\n"
     ]
    },
    {
     "name": "stdout",
     "output_type": "stream",
     "text": [
      "(11, 11)\n"
     ]
    },
    {
     "data": {
      "image/png": "[encoded data removed]",
      "text/plain": [
       "<Figure size 432x288 with 2 Axes>"
      ]
     },
     "metadata": {
      "needs_background": "light"
     },
     "output_type": "display_data"
    }
   ],
   "source": [
    "plot_result(\"0320000\", 0.02, 0.2, num_episodes=50)"
   ]
  },
  {
   "cell_type": "markdown",
   "id": "institutional-shopping",
   "metadata": {},
   "source": [
    "Later in training, when the objective is less convex, the objective quickly becomes this sharper, risker landscape, where the gradient direction is not necessarily best."
   ]
  },
  {
   "cell_type": "code",
   "execution_count": 18,
   "id": "reflected-dragon",
   "metadata": {},
   "outputs": [
    {
     "name": "stderr",
     "output_type": "stream",
     "text": [
      "  8%|▊         | 10/121 [00:00<00:01, 99.84it/s]"
     ]
    },
    {
     "name": "stdout",
     "output_type": "stream",
     "text": [
      "removed\n"
     ]
    },
    {
     "name": "stderr",
     "output_type": "stream",
     "text": [
      " 99%|█████████▉| 120/121 [03:24<00:01,  1.70s/it]\n"
     ]
    },
    {
     "name": "stdout",
     "output_type": "stream",
     "text": [
      "(11, 11)\n"
     ]
    },
    {
     "data": {
      "image/png": "[encoded data removed]",
      "text/plain": [
       "<Figure size 432x288 with 2 Axes>"
      ]
     },
     "metadata": {
      "needs_background": "light"
     },
     "output_type": "display_data"
    }
   ],
   "source": [
    "plot_result(\"2560000\", 0.0005, 0.2, num_episodes=50)"
   ]
  },
  {
   "cell_type": "markdown",
   "id": "municipal-thomas",
   "metadata": {},
   "source": [
    "Furthur along training, the objective gets another order of magnitude more sharp with the appropirate gradient size shrinking dramatically. "
   ]
  },
  {
   "cell_type": "code",
   "execution_count": 20,
   "id": "steady-demographic",
   "metadata": {},
   "outputs": [
    {
     "name": "stderr",
     "output_type": "stream",
     "text": [
      "  1%|          | 9/961 [00:00<00:10, 88.78it/s]"
     ]
    },
    {
     "name": "stdout",
     "output_type": "stream",
     "text": [
      "removed\n"
     ]
    },
    {
     "name": "stderr",
     "output_type": "stream",
     "text": [
      "100%|█████████▉| 960/961 [20:54<00:01,  1.31s/it]\n"
     ]
    },
    {
     "name": "stdout",
     "output_type": "stream",
     "text": [
      "(31, 31)\n"
     ]
    },
    {
     "data": {
      "image/png": "[encoded data removed]",
      "text/plain": [
       "<Figure size 432x288 with 2 Axes>"
      ]
     },
     "metadata": {
      "needs_background": "light"
     },
     "output_type": "display_data"
    }
   ],
   "source": [
    "plot_result(\"2560000\", 0.002, 0.10, num_episodes=50,grid_size=31,max_eig=True)"
   ]
  },
  {
   "cell_type": "markdown",
   "id": "sufficient-validation",
   "metadata": {},
   "source": [
    "This view shows a very sharp line where the objective is high at around 1200 reward, with a stable platu aroun dit with reward at the 800 level. This helps explain why the oscelating reward in the training plot doesn't go beneath 800 -- there is a strong support of that reward in the policy space. "
   ]
  },
  {
   "cell_type": "code",
   "execution_count": null,
   "id": "sufficient-dinner",
   "metadata": {},
   "outputs": [],
   "source": []
  }
 ],
 "metadata": {
  "kernelspec": {
   "display_name": "Python 3",
   "language": "python",
   "name": "python3"
  },
  "language_info": {
   "codemirror_mode": {
    "name": "ipython",
    "version": 3
   },
   "file_extension": ".py",
   "mimetype": "text/x-python",
   "name": "python",
   "nbconvert_exporter": "python",
   "pygments_lexer": "ipython3",
   "version": "3.6.9"
  }
 },
 "nbformat": 4,
 "nbformat_minor": 5
}
